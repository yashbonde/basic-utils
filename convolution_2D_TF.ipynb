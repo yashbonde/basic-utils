{
 "cells": [
  {
   "cell_type": "markdown",
   "metadata": {},
   "source": [
    "# Simple 2D convolutions\n",
    "\n",
    "A simple 2D convolution implementation."
   ]
  },
  {
   "cell_type": "code",
   "execution_count": 10,
   "metadata": {
    "collapsed": true
   },
   "outputs": [],
   "source": [
    "# Simple implementation of convolution of different types in tensorflow.\n",
    "import tensorflow as tf # ML\n",
    "import numpy as np # matrix maths"
   ]
  },
  {
   "cell_type": "markdown",
   "metadata": {},
   "source": [
    "## Making toy data\n",
    "\n",
    "We create simple toy data. Each sample is a 10x10 image which has a single float value, like RGB has 3 values.\n",
    "\n",
    "For output we have 3 classes."
   ]
  },
  {
   "cell_type": "code",
   "execution_count": 2,
   "metadata": {},
   "outputs": [],
   "source": [
    "# params\n",
    "x_dim = 10 # width of matrix\n",
    "y_dim = 10 # heigth of matrix\n",
    "max_val = 30 # maximum value in matrix\n",
    "min_val = 0 # minimum value in matrix\n",
    "samples = 100 # number of samples\n",
    "classes = 3 # number of classes\n",
    "n_epochs = 100 # number of epochs to train on"
   ]
  },
  {
   "cell_type": "code",
   "execution_count": 3,
   "metadata": {},
   "outputs": [
    {
     "name": "stdout",
     "output_type": "stream",
     "text": [
      "Shape of input data: (10, 10, 1)\n",
      "Shape of output data: (3,)\n"
     ]
    }
   ],
   "source": [
    "# making input data\n",
    "data_x = np.random.randint(high = max_val, low = min_val, size = (samples, y_dim, x_dim, 1)).astype(np.float32)\n",
    "print('Shape of input data:', data_x.shape[1:])\n",
    "\n",
    "# making output data\n",
    "data_y = np.zeros(shape = (samples, classes))\n",
    "for i in range(len(data_y)):\n",
    "    data_y[i][np.random.randint(classes)] = 1.0\n",
    "print('Shape of output data:', data_y.shape[1:])"
   ]
  },
  {
   "cell_type": "markdown",
   "metadata": {},
   "source": [
    "### Making a simple 2D convolutional model\n",
    "\n",
    "Input --> Convolution --> Dense --> Output --> Loss <-- Actual output"
   ]
  },
  {
   "cell_type": "code",
   "execution_count": 4,
   "metadata": {
    "collapsed": true
   },
   "outputs": [],
   "source": [
    "# defining the placeholder\n",
    "x = tf.placeholder(tf.float32, shape = (None, y_dim, x_dim, 1), name = 'x')\n",
    "y = tf.placeholder(tf.float32, shape = (None, classes), name = 'y')"
   ]
  },
  {
   "cell_type": "code",
   "execution_count": 5,
   "metadata": {},
   "outputs": [],
   "source": [
    "'''\n",
    "For convolution API given\n",
    "tf.nn.conv2d(input, filter, strides, padding, ...)\n",
    "input = input to the convolution layer\n",
    "filter = weights to the convolution layer\n",
    "strides = A 4-D tensor depending upon the data input format\n",
    "padding = \"SAME\" or \"VALID\"\n",
    "'''\n",
    "\n",
    "# ___Convolution Layer___\n",
    "# defining the filter a.k.a weights\n",
    "# [4, 4, 1, 16] --> the convulution layer will compute 16 feature for a window of 4x4\n",
    "W_conv = tf.Variable(tf.truncated_normal([4, 4, 1, 16]))\n",
    "# defining biases for the layer\n",
    "b_conv = tf.Variable(tf.truncated_normal([16]))\n",
    "# doing the convolution\n",
    "h_conv = tf.nn.conv2d(x, W_conv, [1, 1, 1, 1], padding = 'SAME') + b_conv\n",
    "h_conv = tf.nn.max_pool(h_conv, ksize = [1, 2, 2, 1], strides = [1, 2, 2, 1], padding = 'SAME')\n",
    "\n",
    "# The output of max_pool will be an image of size 5x5 and each [pixel, for lack of a better word]\n",
    "# having 16 features, exactly like in an RGB image each pixel has 3 feature\n",
    "\n",
    "# ___Densely Connected Layer___\n",
    "W_dense = tf.Variable(tf.truncated_normal([5*5*16, classes]))\n",
    "b_dense = tf.Variable(tf.truncated_normal([classes]))\n",
    "# we need to flatten the output of convolution layer so that we can feed it to a Dense Layer\n",
    "h_conv_flat = tf.reshape(h_conv, [-1, 5*5*16])\n",
    "y_ = tf.matmul(h_conv_flat, W_dense) + b_dense"
   ]
  },
  {
   "cell_type": "code",
   "execution_count": 6,
   "metadata": {},
   "outputs": [],
   "source": [
    "# Determining the loss function and accuracy function\n",
    "cross_entropy = tf.nn.softmax_cross_entropy_with_logits(labels = y, logits = y_)\n",
    "train_step = tf.train.AdamOptimizer().minimize(cross_entropy)\n",
    "correct_prediction = tf.equal(tf.argmax(y_, 1), tf.argmax(y, 1))\n",
    "accuracy = tf.reduce_mean(tf.cast(correct_prediction, tf.float32))"
   ]
  },
  {
   "cell_type": "code",
   "execution_count": 9,
   "metadata": {},
   "outputs": [
    {
     "name": "stdout",
     "output_type": "stream",
     "text": [
      "Epoch 10, accuracy : 0.25999999046325684\n",
      "Epoch 20, accuracy : 0.33000001311302185\n",
      "Epoch 30, accuracy : 0.3199999928474426\n",
      "Epoch 40, accuracy : 0.30000001192092896\n",
      "Epoch 50, accuracy : 0.3100000023841858\n",
      "Epoch 60, accuracy : 0.3100000023841858\n",
      "Epoch 70, accuracy : 0.30000001192092896\n",
      "Epoch 80, accuracy : 0.3199999928474426\n",
      "Epoch 90, accuracy : 0.33000001311302185\n",
      "Epoch 100, accuracy : 0.33000001311302185\n"
     ]
    }
   ],
   "source": [
    "# Now we train the model\n",
    "sess = tf.Session()\n",
    "sess.run(tf.global_variables_initializer())\n",
    "\n",
    "for e in range(n_epochs):\n",
    "    feed_dict = {x: data_x, y: data_y}\n",
    "    _, = sess.run([train_step], feed_dict = feed_dict)\n",
    "    if (e+1) % 10 == 0:\n",
    "        acc = sess.run([accuracy], feed_dict = feed_dict)\n",
    "        print('Epoch {0}, accuracy : {1}'.format(e+1, acc[0]))"
   ]
  },
  {
   "cell_type": "markdown",
   "metadata": {},
   "source": [
    "As we can see the accuracy increases with time."
   ]
  }
 ],
 "metadata": {
  "kernelspec": {
   "display_name": "Python 3",
   "language": "python",
   "name": "python3"
  },
  "language_info": {
   "codemirror_mode": {
    "name": "ipython",
    "version": 3
   },
   "file_extension": ".py",
   "mimetype": "text/x-python",
   "name": "python",
   "nbconvert_exporter": "python",
   "pygments_lexer": "ipython3",
   "version": "3.6.1"
  }
 },
 "nbformat": 4,
 "nbformat_minor": 2
}
