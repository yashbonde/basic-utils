{
 "cells": [
  {
   "cell_type": "code",
   "execution_count": 1,
   "metadata": {},
   "outputs": [
    {
     "name": "stderr",
     "output_type": "stream",
     "text": [
      "/usr/local/Cellar/python3/3.6.1/Frameworks/Python.framework/Versions/3.6/lib/python3.6/importlib/_bootstrap.py:205: RuntimeWarning: compiletime version 3.5 of module 'tensorflow.python.framework.fast_tensor_util' does not match runtime version 3.6\n",
      "  return f(*args, **kwds)\n"
     ]
    }
   ],
   "source": [
    "# importing dependencies\n",
    "import numpy as np # matrix math and making toy data\n",
    "import matplotlib.pyplot as plt # graph\n",
    "%matplotlib inline\n",
    "import tensorflow as tf # ML\n",
    "from tensorflow.contrib.rnn import BasicLSTMCell # LSTM Cell"
   ]
  },
  {
   "cell_type": "markdown",
   "metadata": {},
   "source": [
    "## PART 1: Making Toy data\n",
    "First we make a toy data on which we will train our dynamic neural network.\n",
    "\n",
    "Our data is basically a sentences converted into integers, they are of random lengths. We need to pad the sequences to make them of same length, but this will be later solved while using tf.nn.dynamic_rnn().\n",
    "\n",
    "It is of 3 parts: [1] data\\_, [2]labels\\_, [3]seq_lens: an array containing the true lengths of sequences, before padding."
   ]
  },
  {
   "cell_type": "code",
   "execution_count": 2,
   "metadata": {
    "collapsed": true
   },
   "outputs": [],
   "source": [
    "# parameters\n",
    "maxlen_sent = 512 # maximum length of any sentence\n",
    "vocab_size = 2048 # size of vocabulary in training set\n",
    "num_classes = 4 # number of output classes\n",
    "num_examples = 2000 # number of examples\n",
    "test_split = 0.2 # ratio of examples in testing data"
   ]
  },
  {
   "cell_type": "code",
   "execution_count": 3,
   "metadata": {},
   "outputs": [
    {
     "name": "stdout",
     "output_type": "stream",
     "text": [
      "(2000,) <class 'numpy.ndarray'>\n",
      "(2000, 4) <class 'numpy.ndarray'>\n"
     ]
    }
   ],
   "source": [
    "# making random lenght sentences\n",
    "data_ = np.asarray([np.random.randint(vocab_size, size = np.random.randint(maxlen_sent)) for _ in range(num_examples)])\n",
    "# making corresponding one-hot labels for the data\n",
    "labels_ = np.zeros([num_examples, num_classes])\n",
    "for i in range(len(labels_)):\n",
    "    labels_[i][np.random.randint(num_classes)] = 1.\n",
    "print(data_.shape, type(data_))\n",
    "print(labels_.shape, type(labels_))"
   ]
  },
  {
   "cell_type": "code",
   "execution_count": 4,
   "metadata": {
    "collapsed": true
   },
   "outputs": [],
   "source": [
    "# for using dynamic length modules we also need an array which keeps track of sizes of different sentences\n",
    "seq_lens = np.array([len(s) for s in data_])"
   ]
  },
  {
   "cell_type": "code",
   "execution_count": 6,
   "metadata": {},
   "outputs": [],
   "source": [
    "# I am getting a stack throw like this, I guess it is because I have not padded the sequences to\n",
    "# the proper length\n",
    "'''\n",
    "---------------------------------------------------------------------------\n",
    "ValueError                                Traceback (most recent call last)\n",
    "<ipython-input-36-c8b16e8fbf05> in <module>()\n",
    "      7     x_batch, y_batch, seqlen_batch = get_sentence_batch(batch_size, data_train, labels_train, seqlens_train)\n",
    "      8     feed_dict = {_x:x_batch, _y:y_batch, _seqlens:seqlen_batch}\n",
    "----> 9     sess.run(train_step, feed_dict = feed_dict)\n",
    "     10     if e%disp_step == 0:\n",
    "     11         acc = sess.run(accuracy, feed_dict = feed_dict)\n",
    "\n",
    "<few more throws>\n",
    "\n",
    "ValueError: setting an array element with a sequence.\n",
    "'''\n",
    "\n",
    "for i in range(len(data_)):\n",
    "    data_[i] = np.hstack([data_[i], np.zeros(maxlen_sent - len(data_[i]), dtype = np.int32)])\n",
    "    \n",
    "# Now I am not getting an error"
   ]
  },
  {
   "cell_type": "code",
   "execution_count": 7,
   "metadata": {},
   "outputs": [
    {
     "name": "stdout",
     "output_type": "stream",
     "text": [
      "Sample input data: [ 376 1555  564 1480  397  331  635 1585 1765 1722 1128  256 1733  374  801\n",
      " 2030  333  273  842 1150  320  702  371 1588  110 1271 1435 1208 1921  766\n",
      " 1723  142 1748    7 1639  734 1793 1675 1307 1826  798  530  598  729  411\n",
      " 1526 2031 1205 1152  321 1340  836  943  107  551  124  527 1569  383 1743\n",
      " 1244 1051  850 1336 1704  667 1741 1420  393  701  396 1200 1211 1762 1749\n",
      " 1629  246 1735  488 1881  540 1053 1060 1365 1550  367 1952  247 1025   65\n",
      "  319  285  951  300 2002 1997 1069  978 1588  549 1728  627    0    0    0\n",
      "    0    0    0    0    0    0    0    0    0    0    0    0    0    0    0\n",
      "    0    0    0    0    0    0    0    0    0    0    0    0    0    0    0\n",
      "    0    0    0    0    0    0    0    0    0    0    0    0    0    0    0\n",
      "    0    0    0    0    0    0    0    0    0    0    0    0    0    0    0\n",
      "    0    0    0    0    0    0    0    0    0    0    0    0    0    0    0\n",
      "    0    0    0    0    0    0    0    0    0    0    0    0    0    0    0\n",
      "    0    0    0    0    0    0    0    0    0    0    0    0    0    0    0\n",
      "    0    0    0    0    0    0    0    0    0    0    0    0    0    0    0\n",
      "    0    0    0    0    0    0    0    0    0    0    0    0    0    0    0\n",
      "    0    0    0    0    0    0    0    0    0    0    0    0    0    0    0\n",
      "    0    0    0    0    0    0    0    0    0    0    0    0    0    0    0\n",
      "    0    0    0    0    0    0    0    0    0    0    0    0    0    0    0\n",
      "    0    0    0    0    0    0    0    0    0    0    0    0    0    0    0\n",
      "    0    0    0    0    0    0    0    0    0    0    0    0    0    0    0\n",
      "    0    0    0    0    0    0    0    0    0    0    0    0    0    0    0\n",
      "    0    0    0    0    0    0    0    0    0    0    0    0    0    0    0\n",
      "    0    0    0    0    0    0    0    0    0    0    0    0    0    0    0\n",
      "    0    0    0    0    0    0    0    0    0    0    0    0    0    0    0\n",
      "    0    0    0    0    0    0    0    0    0    0    0    0    0    0    0\n",
      "    0    0    0    0    0    0    0    0    0    0    0    0    0    0    0\n",
      "    0    0    0    0    0    0    0    0    0    0    0    0    0    0    0\n",
      "    0    0    0    0    0    0    0    0    0    0    0    0    0    0    0\n",
      "    0    0    0    0    0    0    0    0    0    0    0    0    0    0    0\n",
      "    0    0    0    0    0    0    0    0    0    0    0    0    0    0    0\n",
      "    0    0    0    0    0    0    0    0    0    0    0    0    0    0    0\n",
      "    0    0    0    0    0    0    0    0    0    0    0    0    0    0    0\n",
      "    0    0    0    0    0    0    0    0    0    0    0    0    0    0    0\n",
      "    0    0]\n",
      "Sample output label: [ 1.  0.  0.  0.]\n"
     ]
    }
   ],
   "source": [
    "print('Sample input data:', data_[0])\n",
    "print('Sample output label:', labels_[0])"
   ]
  },
  {
   "cell_type": "code",
   "execution_count": 8,
   "metadata": {
    "collapsed": true
   },
   "outputs": [],
   "source": [
    "# spliting into trianing and testing dataset\n",
    "# training\n",
    "data_train = data_[int(len(data_)*test_split):]\n",
    "labels_train = labels_[int(len(data_)*test_split):]\n",
    "seqlens_train = seq_lens[int(len(data_)*test_split):]\n",
    "# testing\n",
    "data_test = data_[:int(len(data_)*test_split)]\n",
    "labels_test = labels_[:int(len(data_)*test_split)]\n",
    "seqlens_test = seq_lens[:int(len(data_)*test_split)]"
   ]
  },
  {
   "cell_type": "code",
   "execution_count": 9,
   "metadata": {
    "collapsed": true
   },
   "outputs": [],
   "source": [
    "# we now make a batch generator function\n",
    "def get_sentence_batch(batch_size, data_x, data_y, data_seqlens):\n",
    "    instance_indices = list(range(len(data_x)))\n",
    "    np.random.shuffle(instance_indices)\n",
    "    batch = instance_indices[:batch_size]\n",
    "    x = [data_x[i] for i in batch]\n",
    "    y = [data_y[i] for i in batch]\n",
    "    seqlens = [data_seqlens[i] for i in batch]\n",
    "    return x,y,seqlens"
   ]
  },
  {
   "cell_type": "markdown",
   "metadata": {},
   "source": [
    "## PART 2: Making the model\n",
    "Now we make the model. We use tf.nn.dynamic_rnn() as wrapper class for tf.contrib.rnn.BasicLSTMCell(), and pass sequence lengths as one of the arguments thus making sure we use only the useful lengths."
   ]
  },
  {
   "cell_type": "code",
   "execution_count": 10,
   "metadata": {
    "collapsed": true
   },
   "outputs": [],
   "source": [
    "# parameters\n",
    "batch_size = 32 # batch size\n",
    "epochs = 200 # number of training epochs\n",
    "test_epoch = 1 # number of epochs for testing\n",
    "e_dim = 100 # embedding dimension\n",
    "hidden_layer_lstm = 128 # size of hidden layer in LSTM cell\n",
    "disp_step = 10 # after every 10 steps show status"
   ]
  },
  {
   "cell_type": "code",
   "execution_count": 11,
   "metadata": {
    "collapsed": true
   },
   "outputs": [],
   "source": [
    "_x = tf.placeholder(tf.int32, [batch_size, maxlen_sent]) # input \n",
    "_y = tf.placeholder(tf.float32, [batch_size, num_classes]) # labels\n",
    "_seqlens = tf.placeholder(tf.int32, [batch_size]) # sequence lengths"
   ]
  },
  {
   "cell_type": "code",
   "execution_count": 12,
   "metadata": {
    "collapsed": true
   },
   "outputs": [],
   "source": [
    "# convert to embeddings (supervised not pre-trained)\n",
    "with tf.name_scope(\"embeddings\"):\n",
    "    embeddings = tf.Variable(tf.random_uniform([vocab_size, e_dim], -1.0, 1.0), name = 'embeddings')\n",
    "    embed = tf.nn.embedding_lookup(embeddings, _x)"
   ]
  },
  {
   "cell_type": "code",
   "execution_count": 13,
   "metadata": {
    "collapsed": true,
    "scrolled": false
   },
   "outputs": [],
   "source": [
    "with tf.variable_scope(\"lstm\"):\n",
    "    lstm_cell = BasicLSTMCell(hidden_layer_lstm, forget_bias = 1.0)\n",
    "    outputs, states = tf.nn.dynamic_rnn(lstm_cell, embed, sequence_length = _seqlens, dtype = tf.float32)\n",
    "\n",
    "# defining weights and biases\n",
    "W1 = tf.Variable(tf.truncated_normal([hidden_layer_lstm, num_classes]))\n",
    "b1 = tf.Variable(tf.truncated_normal([num_classes]))\n",
    "\n",
    "# linear layer\n",
    "y = tf.matmul(states[1], W1) + b1\n",
    "\n",
    "# loss\n",
    "softmax = tf.nn.softmax_cross_entropy_with_logits(logits = y, labels = _y)\n",
    "cross_entropy = tf.reduce_mean(softmax)"
   ]
  },
  {
   "cell_type": "markdown",
   "metadata": {},
   "source": [
    "## PART 3: Training the model\n",
    "We train the model using Adam optimizer, as it performed better during the test."
   ]
  },
  {
   "cell_type": "code",
   "execution_count": 14,
   "metadata": {
    "collapsed": true
   },
   "outputs": [],
   "source": [
    "train_step = tf.train.AdamOptimizer(0.001, 0.9).minimize(cross_entropy)\n",
    "correct_prediction = tf.equal(tf.argmax(_y,1), tf.argmax(y,1))\n",
    "accuracy = tf.reduce_mean(tf.cast(correct_prediction, tf.float32)) * 100"
   ]
  },
  {
   "cell_type": "code",
   "execution_count": 15,
   "metadata": {},
   "outputs": [
    {
     "name": "stdout",
     "output_type": "stream",
     "text": [
      "Epoch: 0, Accuracy: 40.625\n",
      "Epoch: 10, Accuracy: 43.75\n",
      "Epoch: 20, Accuracy: 34.375\n",
      "Epoch: 30, Accuracy: 50.0\n",
      "Epoch: 40, Accuracy: 40.625\n",
      "Epoch: 50, Accuracy: 65.625\n",
      "Epoch: 60, Accuracy: 53.125\n",
      "Epoch: 70, Accuracy: 56.25\n",
      "Epoch: 80, Accuracy: 65.625\n",
      "Epoch: 90, Accuracy: 65.625\n",
      "Epoch: 100, Accuracy: 75.0\n",
      "Epoch: 110, Accuracy: 62.5\n",
      "Epoch: 120, Accuracy: 68.75\n",
      "Epoch: 130, Accuracy: 56.25\n",
      "Epoch: 140, Accuracy: 90.625\n",
      "Epoch: 150, Accuracy: 78.125\n",
      "Epoch: 160, Accuracy: 75.0\n",
      "Epoch: 170, Accuracy: 90.625\n",
      "Epoch: 180, Accuracy: 90.625\n",
      "Epoch: 190, Accuracy: 87.5\n",
      "Epoch: 0, Accuracy: 34.375\n"
     ]
    }
   ],
   "source": [
    "# defining sesion and running some ops\n",
    "sess = tf.Session()\n",
    "sess.run(tf.global_variables_initializer())\n",
    "\n",
    "# list of accuracies\n",
    "acc_list = []\n",
    "\n",
    "# training\n",
    "for e in range(epochs):\n",
    "    x_batch, y_batch, seqlen_batch = get_sentence_batch(batch_size, data_train, labels_train, seqlens_train)\n",
    "    feed_dict = {_x:x_batch, _y:y_batch, _seqlens:seqlen_batch}\n",
    "    sess.run(train_step, feed_dict = feed_dict)\n",
    "    if e%disp_step == 0:\n",
    "        acc = sess.run(accuracy, feed_dict = feed_dict)\n",
    "        acc_list.append(acc)\n",
    "        print('Epoch: {0}, Accuracy: {1}'.format(e, acc))\n",
    "        \n",
    "# testing\n",
    "for e in range(test_epoch):\n",
    "    x_batch, y_batch, seqlen_batch = get_sentence_batch(batch_size, data_test, labels_test, seqlens_test)\n",
    "    feed_dict = {_x:x_batch, _y:y_batch, _seqlens:seqlen_batch}\n",
    "    acc = sess.run(accuracy, feed_dict = feed_dict)\n",
    "    print('Epoch: {0}, Accuracy: {1}'.format(e, acc))"
   ]
  },
  {
   "cell_type": "code",
   "execution_count": 16,
   "metadata": {},
   "outputs": [
    {
     "data": {
      "text/plain": [
       "[<matplotlib.lines.Line2D at 0x11d6f4978>]"
      ]
     },
     "execution_count": 16,
     "metadata": {},
     "output_type": "execute_result"
    },
    {
     "data": {
      "image/png": "[encoded data removed]",
      "text/plain": [
       "<matplotlib.figure.Figure at 0x11d505ef0>"
      ]
     },
     "metadata": {},
     "output_type": "display_data"
    }
   ],
   "source": [
    "plt.figure(figsize = (8,8))\n",
    "plt.plot(acc_list)"
   ]
  },
  {
   "cell_type": "code",
   "execution_count": null,
   "metadata": {
    "collapsed": true
   },
   "outputs": [],
   "source": []
  }
 ],
 "metadata": {
  "kernelspec": {
   "display_name": "Python 3",
   "language": "python",
   "name": "python3"
  },
  "language_info": {
   "codemirror_mode": {
    "name": "ipython",
    "version": 3
   },
   "file_extension": ".py",
   "mimetype": "text/x-python",
   "name": "python",
   "nbconvert_exporter": "python",
   "pygments_lexer": "ipython3",
   "version": "3.6.1"
  }
 },
 "nbformat": 4,
 "nbformat_minor": 2
}
