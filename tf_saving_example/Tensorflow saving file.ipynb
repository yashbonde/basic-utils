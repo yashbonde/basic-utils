{
 "cells": [
  {
   "cell_type": "code",
   "execution_count": 1,
   "metadata": {},
   "outputs": [
    {
     "name": "stderr",
     "output_type": "stream",
     "text": [
      "/usr/local/Cellar/python3/3.6.1/Frameworks/Python.framework/Versions/3.6/lib/python3.6/importlib/_bootstrap.py:205: RuntimeWarning: compiletime version 3.5 of module 'tensorflow.python.framework.fast_tensor_util' does not match runtime version 3.6\n",
      "  return f(*args, **kwds)\n"
     ]
    }
   ],
   "source": [
    "import numpy as np\n",
    "import tensorflow as tf"
   ]
  },
  {
   "cell_type": "code",
   "execution_count": 2,
   "metadata": {
    "collapsed": true
   },
   "outputs": [],
   "source": [
    "# making a simple NN and saving the model\n",
    "_x = tf.placeholder(tf.float32, [12, 10])\n",
    "_y = tf.placeholder(tf.float32, [12, 4])\n",
    "\n",
    "# weight and bias\n",
    "W = tf.Variable(tf.truncated_normal([10, 4]))\n",
    "b = tf.Variable(tf.truncated_normal([4]))\n",
    "\n",
    "y = tf.sigmoid(tf.matmul(_x, W) + b)"
   ]
  },
  {
   "cell_type": "code",
   "execution_count": 3,
   "metadata": {
    "collapsed": true
   },
   "outputs": [],
   "source": [
    "loss = tf.reduce_mean(tf.sqrt(_y**2 - y**2))"
   ]
  },
  {
   "cell_type": "code",
   "execution_count": 4,
   "metadata": {
    "collapsed": true
   },
   "outputs": [],
   "source": [
    "train_step = tf.train.AdamOptimizer().minimize(loss)"
   ]
  },
  {
   "cell_type": "code",
   "execution_count": 10,
   "metadata": {
    "collapsed": true
   },
   "outputs": [],
   "source": [
    "sess = tf.Session()\n",
    "sess.run(tf.global_variables_initializer())"
   ]
  },
  {
   "cell_type": "code",
   "execution_count": 11,
   "metadata": {},
   "outputs": [
    {
     "data": {
      "text/plain": [
       "array([[-1.54669428, -1.27421713,  0.70632291,  0.33264139],\n",
       "       [-1.01336324, -1.67693484, -0.04820316,  1.68947244],\n",
       "       [ 1.20904446, -1.53509712, -0.54565752, -0.09386571],\n",
       "       [ 0.51532489, -1.18186438, -1.18079209,  0.01276644],\n",
       "       [ 0.34045234,  0.05067648,  1.47735202,  0.77544677],\n",
       "       [ 0.21295512,  1.65791607,  1.96497536,  1.67190099],\n",
       "       [ 0.0512033 ,  0.28880551,  0.64730132,  1.42266941],\n",
       "       [-0.30512682,  1.26103628,  0.0115173 , -1.45348465],\n",
       "       [ 1.12774968, -0.33584824, -0.72892433,  1.43471873],\n",
       "       [ 0.66947204,  0.13622633,  0.37618402, -0.68531948]], dtype=float32)"
      ]
     },
     "execution_count": 11,
     "metadata": {},
     "output_type": "execute_result"
    }
   ],
   "source": [
    "sess.run(W)"
   ]
  },
  {
   "cell_type": "code",
   "execution_count": 12,
   "metadata": {
    "collapsed": true
   },
   "outputs": [],
   "source": [
    "# Add ops to save and restore all the variables.\n",
    "saver = tf.train.Saver()"
   ]
  },
  {
   "cell_type": "code",
   "execution_count": 13,
   "metadata": {
    "collapsed": true
   },
   "outputs": [],
   "source": [
    "save_path = saver.save(sess, \"/Users/yashj.bonde/Desktop/ML/Basic_Snippets/tf_saving_example/model.ckpt\")"
   ]
  },
  {
   "cell_type": "code",
   "execution_count": 14,
   "metadata": {},
   "outputs": [
    {
     "name": "stdout",
     "output_type": "stream",
     "text": [
      "Model saved in file: /Users/yashj.bonde/Desktop/ML/Basic_Snippets/tf_saving_example/model.ckpt\n"
     ]
    }
   ],
   "source": [
    "print(\"Model saved in file: %s\" % save_path)"
   ]
  },
  {
   "cell_type": "code",
   "execution_count": 15,
   "metadata": {
    "collapsed": true
   },
   "outputs": [],
   "source": [
    "sess.close()"
   ]
  },
  {
   "cell_type": "code",
   "execution_count": null,
   "metadata": {
    "collapsed": true
   },
   "outputs": [],
   "source": []
  }
 ],
 "metadata": {
  "kernelspec": {
   "display_name": "Python 3",
   "language": "python",
   "name": "python3"
  },
  "language_info": {
   "codemirror_mode": {
    "name": "ipython",
    "version": 3
   },
   "file_extension": ".py",
   "mimetype": "text/x-python",
   "name": "python",
   "nbconvert_exporter": "python",
   "pygments_lexer": "ipython3",
   "version": "3.6.1"
  }
 },
 "nbformat": 4,
 "nbformat_minor": 2
}
